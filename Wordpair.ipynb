{
  "cells": [
    {
      "cell_type": "markdown",
      "metadata": {
        "id": "view-in-github",
        "colab_type": "text"
      },
      "source": [
        "<a href=\"https://colab.research.google.com/github/SRINIDHISAGI/NLP1/blob/main/Wordpair.ipynb\" target=\"_parent\"><img src=\"https://colab.research.google.com/assets/colab-badge.svg\" alt=\"Open In Colab\"/></a>"
      ]
    },
    {
      "cell_type": "code",
      "source": [
        "def edit_distance(source, target, sub_cost=1, ins_cost=1, del_cost=1):\n",
        "    n, m = len(source), len(target)\n",
        "    dp = [[0]*(m+1) for _ in range(n+1)]\n",
        "    back = [[None]*(m+1) for _ in range(n+1)]\n",
        "\n",
        "    # initialize\n",
        "    for i in range(1, n+1):\n",
        "        dp[i][0] = i * del_cost\n",
        "        back[i][0] = (\"del\", source[i-1])\n",
        "    for j in range(1, m+1):\n",
        "        dp[0][j] = j * ins_cost\n",
        "        back[0][j] = (\"ins\", target[j-1])\n",
        "\n",
        "    # fill DP\n",
        "    for i in range(1, n+1):\n",
        "        for j in range(1, m+1):\n",
        "            cost_sub = dp[i-1][j-1] + (0 if source[i-1]==target[j-1] else sub_cost)\n",
        "            cost_del = dp[i-1][j] + del_cost\n",
        "            cost_ins = dp[i][j-1] + ins_cost\n",
        "\n",
        "            best = min(cost_sub, cost_del, cost_ins)\n",
        "            dp[i][j] = best\n",
        "            if best == cost_sub:\n",
        "                if source[i-1]==target[j-1]:\n",
        "                    back[i][j] = (\"match\", source[i-1])\n",
        "                else:\n",
        "                    back[i][j] = (\"sub\", (source[i-1], target[j-1]))\n",
        "            elif best == cost_del:\n",
        "                back[i][j] = (\"del\", source[i-1])\n",
        "            else:\n",
        "               back[i][j] = (\"ins\", target[j-1])\n",
        "\n",
        "    # backtrace sequence\n",
        "    ops = []\n",
        "    i, j = n, m\n",
        "    while i > 0 or j > 0:\n",
        "        op = back[i][j]\n",
        "        if op[0] == \"match\":\n",
        "            i -= 1; j -= 1\n",
        "        elif op[0] == \"sub\":\n",
        "            ops.append(f\"Substitute {op[1][0]} → {op[1][1]}\")\n",
        "            i -= 1; j -= 1\n",
        "        elif op[0] == \"del\":\n",
        "            ops.append(f\"Delete {op[1]}\")\n",
        "            i -= 1\n",
        "        elif op[0] == \"ins\":\n",
        "            ops.append(f\"Insert {op[1]}\")\n",
        "            j -= 1\n",
        "    ops.reverse()\n",
        "    return dp[n][m], ops\n",
        "\n",
        "\n",
        "# Model A: Sub=1, Ins=1, Del=1\n",
        "dist_A, ops_A = edit_distance(\"sunday\", \"saturday\", 1, 1, 1)\n",
        "print(\"Model A (Sub=1, Ins=1, Del=1)\")\n",
        "print(\"Edit Distance:\", dist_A)\n",
        "print(\"One valid sequence:\")\n",
        "for step in ops_A: print(\" -\", step)\n",
        "\n",
        "print(\"\\n\")\n",
        "\n",
        "# Model B: Sub=2, Ins=1, Del=1\n",
        "dist_B, ops_B = edit_distance(\"sunday\", \"saturday\", 2, 1, 1)\n",
        "print(\"Model B (Sub=2, Ins=1, Del=1)\")\n",
        "print(\"Edit Distance:\", dist_B)\n",
        "print(\"One valid sequence:\")\n",
        "for step in ops_B: print(\" -\", step)"
      ],
      "metadata": {
        "id": "HgzUYtE5ps65",
        "outputId": "b924f275-07ad-4963-83df-62614ec696d2",
        "colab": {
          "base_uri": "https://localhost:8080/"
        }
      },
      "execution_count": 7,
      "outputs": [
        {
          "output_type": "stream",
          "name": "stdout",
          "text": [
            "Model A (Sub=1, Ins=1, Del=1)\n",
            "Edit Distance: 3\n",
            "One valid sequence:\n",
            " - Insert a\n",
            " - Insert t\n",
            " - Substitute n → r\n",
            "\n",
            "\n",
            "Model B (Sub=2, Ins=1, Del=1)\n",
            "Edit Distance: 4\n",
            "One valid sequence:\n",
            " - Insert a\n",
            " - Insert t\n",
            " - Substitute n → r\n"
          ]
        }
      ]
    }
  ],
  "metadata": {
    "colab": {
      "provenance": [],
      "name": "Wordpair.ipynb",
      "include_colab_link": true
    },
    "kernelspec": {
      "name": "python3",
      "display_name": "Python 3"
    },
    "language_info": {
      "name": "python"
    }
  },
  "nbformat": 4,
  "nbformat_minor": 0
}